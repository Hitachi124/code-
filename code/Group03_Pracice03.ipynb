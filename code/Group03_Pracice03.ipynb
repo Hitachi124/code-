{
 "cells": [
  {
   "cell_type": "code",
   "execution_count": 17,
   "id": "65c0b5d2",
   "metadata": {},
   "outputs": [
    {
     "data": {
      "text/html": [
       "<div>\n",
       "<style scoped>\n",
       "    .dataframe tbody tr th:only-of-type {\n",
       "        vertical-align: middle;\n",
       "    }\n",
       "\n",
       "    .dataframe tbody tr th {\n",
       "        vertical-align: top;\n",
       "    }\n",
       "\n",
       "    .dataframe thead th {\n",
       "        text-align: right;\n",
       "    }\n",
       "</style>\n",
       "<table border=\"1\" class=\"dataframe\">\n",
       "  <thead>\n",
       "    <tr style=\"text-align: right;\">\n",
       "      <th></th>\n",
       "      <th>Stt</th>\n",
       "      <th>Height(cm)</th>\n",
       "      <th>Length_of_hair(cm)</th>\n",
       "      <th>Voice_pitch</th>\n",
       "      <th>Class</th>\n",
       "    </tr>\n",
       "  </thead>\n",
       "  <tbody>\n",
       "    <tr>\n",
       "      <th>0</th>\n",
       "      <td>1</td>\n",
       "      <td>180</td>\n",
       "      <td>15</td>\n",
       "      <td>0</td>\n",
       "      <td>Man</td>\n",
       "    </tr>\n",
       "    <tr>\n",
       "      <th>1</th>\n",
       "      <td>2</td>\n",
       "      <td>177</td>\n",
       "      <td>42</td>\n",
       "      <td>0</td>\n",
       "      <td>Woman</td>\n",
       "    </tr>\n",
       "    <tr>\n",
       "      <th>2</th>\n",
       "      <td>3</td>\n",
       "      <td>136</td>\n",
       "      <td>35</td>\n",
       "      <td>1</td>\n",
       "      <td>Woman</td>\n",
       "    </tr>\n",
       "    <tr>\n",
       "      <th>3</th>\n",
       "      <td>4</td>\n",
       "      <td>174</td>\n",
       "      <td>6</td>\n",
       "      <td>0</td>\n",
       "      <td>Man</td>\n",
       "    </tr>\n",
       "    <tr>\n",
       "      <th>4</th>\n",
       "      <td>5</td>\n",
       "      <td>141</td>\n",
       "      <td>28</td>\n",
       "      <td>1</td>\n",
       "      <td>Woman</td>\n",
       "    </tr>\n",
       "    <tr>\n",
       "      <th>5</th>\n",
       "      <td>6</td>\n",
       "      <td>180</td>\n",
       "      <td>20</td>\n",
       "      <td>0</td>\n",
       "      <td>Man</td>\n",
       "    </tr>\n",
       "    <tr>\n",
       "      <th>6</th>\n",
       "      <td>7</td>\n",
       "      <td>158</td>\n",
       "      <td>29</td>\n",
       "      <td>1</td>\n",
       "      <td>Woman</td>\n",
       "    </tr>\n",
       "    <tr>\n",
       "      <th>7</th>\n",
       "      <td>8</td>\n",
       "      <td>150</td>\n",
       "      <td>20</td>\n",
       "      <td>1</td>\n",
       "      <td>Woman</td>\n",
       "    </tr>\n",
       "    <tr>\n",
       "      <th>8</th>\n",
       "      <td>9</td>\n",
       "      <td>175</td>\n",
       "      <td>4</td>\n",
       "      <td>0</td>\n",
       "      <td>Man</td>\n",
       "    </tr>\n",
       "    <tr>\n",
       "      <th>9</th>\n",
       "      <td>10</td>\n",
       "      <td>180</td>\n",
       "      <td>7</td>\n",
       "      <td>0</td>\n",
       "      <td>Man</td>\n",
       "    </tr>\n",
       "  </tbody>\n",
       "</table>\n",
       "</div>"
      ],
      "text/plain": [
       "   Stt  Height(cm)  Length_of_hair(cm)  Voice_pitch  Class\n",
       "0    1         180                  15            0    Man\n",
       "1    2         177                  42            0  Woman\n",
       "2    3         136                  35            1  Woman\n",
       "3    4         174                   6            0    Man\n",
       "4    5         141                  28            1  Woman\n",
       "5    6         180                  20            0    Man\n",
       "6    7         158                  29            1  Woman\n",
       "7    8         150                  20            1  Woman\n",
       "8    9         175                   4            0    Man\n",
       "9   10         180                   7            0    Man"
      ]
     },
     "execution_count": 17,
     "metadata": {},
     "output_type": "execute_result"
    }
   ],
   "source": [
    "#Task 2\n",
    "import numpy as np\n",
    "from sklearn.tree import DecisionTreeClassifier\n",
    "from sklearn.model_selection import train_test_split\n",
    "import pandas as pd\n",
    "import matplotlib.pyplot as plt\n",
    "#Đọc file csv\n",
    "df = pd.read_csv('/Users/lengochuynh/Documents/Zalo Received Files/Practice 03/Task 1/Practice03_group3.csv')\n",
    "df"
   ]
  },
  {
   "cell_type": "code",
   "execution_count": 18,
   "id": "d0ce8d96",
   "metadata": {},
   "outputs": [
    {
     "name": "stdout",
     "output_type": "stream",
     "text": [
      "[[180  15   0]\n",
      " [177  42   0]\n",
      " [136  35   1]\n",
      " [174   6   0]\n",
      " [141  28   1]\n",
      " [180  20   0]\n",
      " [158  29   1]\n",
      " [150  20   1]\n",
      " [175   4   0]\n",
      " [180   7   0]]\n"
     ]
    }
   ],
   "source": [
    "#Task 3\n",
    "# X\n",
    "import pandas as pd\n",
    "import numpy as np\n",
    "\n",
    "# Đọc dữ liệu từ file CSV vào DataFrame\n",
    "csv_file_path = ('/Users/lengochuynh/Documents/Zalo Received Files/Practice 03/Task 1/Practice03_group3.csv')\n",
    "df = pd.read_csv(csv_file_path)\n",
    "df = df.iloc[:, 1:-1]\n",
    "# Chuyển đổi DataFrame thành ma trận NumPy\n",
    "matrix = df.values\n",
    "# Hiển thị ma trận\n",
    "print(matrix)"
   ]
  },
  {
   "cell_type": "code",
   "execution_count": 19,
   "id": "c57d6bcd",
   "metadata": {},
   "outputs": [
    {
     "name": "stdout",
     "output_type": "stream",
     "text": [
      "['Man', 'Woman', 'Woman', 'Man', 'Woman', 'Man', 'Woman', 'Woman', 'Man', 'Man']\n"
     ]
    }
   ],
   "source": [
    "# Y\n",
    "csv_file_path = ('/Users/lengochuynh/Documents/Zalo Received Files/Practice 03/Task 1/Practice03_group3.csv')\n",
    "df = pd.read_csv(csv_file_path)\n",
    "last_column_data = df.iloc[:, -1].tolist()\n",
    "print(last_column_data)"
   ]
  },
  {
   "cell_type": "code",
   "execution_count": 20,
   "id": "b96a0dcc",
   "metadata": {},
   "outputs": [
    {
     "name": "stdout",
     "output_type": "stream",
     "text": [
      "['Man' 'Man' 'Man' 'Man']\n"
     ]
    }
   ],
   "source": [
    "# Task 4\n",
    "# Chia dữ liệu thành tập huấn luyện và tập kiểm tra\n",
    "X_train, X_test, y_train, y_test = train_test_split(matrix, last_column_data , test_size= 1/3, random_state=42)\n",
    "\n",
    "# Khởi tạo mô hình Decision Tree\n",
    "group3 = DecisionTreeClassifier()\n",
    "\n",
    "# Huấn luyện mô hình trên tập huấn luyện\n",
    "group3.fit(X_train, y_train)\n",
    "\n",
    "# Dự đoán trên tập kiểm tra\n",
    "y_pred = group3.predict(X_test)\n",
    "print(y_pred)"
   ]
  },
  {
   "cell_type": "code",
   "execution_count": 22,
   "id": "b4a7b6ad",
   "metadata": {},
   "outputs": [
    {
     "name": "stdout",
     "output_type": "stream",
     "text": [
      "Bộ 1: Predicted Gender: Nữ\n",
      "Bộ 2: Predicted Gender: Nữ\n",
      "Bộ 3: Predicted Gender: Nữ\n"
     ]
    }
   ],
   "source": [
    "# Task 5\n",
    "# Nhập 3 bộ phân loại giới tính\n",
    "X = [\n",
    "    [153, 32, 0],\n",
    "    [163, 14, 1],\n",
    "    [173, 10, 1]\n",
    "]\n",
    "# Chuyển dữ liệu thành mảng 2D\n",
    "\n",
    "new_data_array = np.array(X).reshape(len(X), -1)\n",
    "\n",
    "# Dự đoán giới tính cho dữ liệu mới bằng mô hình đã huấn luyện\n",
    "predicted_gender = group3.predict(new_data_array)\n",
    "\n",
    "# In kết quả dự đoán\n",
    "for i, prediction in enumerate(predicted_gender):\n",
    "    print(f\"Bộ {i+1}: Predicted Gender: {'Nam' if prediction == 0 else 'Nữ'}\")"
   ]
  },
  {
   "cell_type": "code",
   "execution_count": null,
   "id": "b9f8bafa",
   "metadata": {},
   "outputs": [],
   "source": []
  }
 ],
 "metadata": {
  "kernelspec": {
   "display_name": "Python 3 (ipykernel)",
   "language": "python",
   "name": "python3"
  },
  "language_info": {
   "codemirror_mode": {
    "name": "ipython",
    "version": 3
   },
   "file_extension": ".py",
   "mimetype": "text/x-python",
   "name": "python",
   "nbconvert_exporter": "python",
   "pygments_lexer": "ipython3",
   "version": "3.11.5"
  }
 },
 "nbformat": 4,
 "nbformat_minor": 5
}
