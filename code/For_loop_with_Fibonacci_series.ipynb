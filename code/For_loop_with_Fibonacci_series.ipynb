{
 "cells": [
  {
   "cell_type": "code",
   "execution_count": null,
   "id": "42b3eb4f",
   "metadata": {},
   "outputs": [],
   "source": [
    "import time\n",
    "import numpy\n",
    "import matplotlib.pyplot as plt"
   ]
  },
  {
   "cell_type": "code",
   "execution_count": null,
   "id": "6578c6ec",
   "metadata": {},
   "outputs": [],
   "source": [
    "N = int(input(\"Number of elements in Fibonacci Series, N, (N>=2) : \"))\n",
    "\n",
    "#initialize the list with starting elements: 0, 1\n",
    "fibonacciSeries = [0,1]\n",
    "\n",
    "if N>2:\n",
    "    for i in range(2, N):\n",
    "        #next elment in series = sum of its previous two numbers\n",
    "        nextElement = fibonacciSeries[i-1] + fibonacciSeries[i-2]\n",
    "        #append the element to the series\n",
    "        fibonacciSeries.append(nextElement)\n",
    "\n",
    "print(fibonacciSeries)"
   ]
  },
  {
   "cell_type": "code",
   "execution_count": null,
   "id": "b497a8dc",
   "metadata": {},
   "outputs": [],
   "source": [
    "Fibonacci_Series = fibonacciSeries \n",
    "# create a figure and axis\n",
    "fig, ax = plt.subplots(figsize=(10, 6), dpi=80)\n",
    "\n",
    "index_Fibo = []\n",
    "for i in range(len(Fibonacci_Series)):\n",
    "    index_Fibo.append(i)\n",
    "\n",
    "# plot each data-point\n",
    "for i in range(len(Fibonacci_Series)):\n",
    "    ax.scatter(index_Fibo[i], Fibonacci_Series[i])\n",
    "    \n",
    "# set a title and labels\n",
    "ax.set_title('Fibonacci Series')\n",
    "ax.set_xlabel('Fibonacci index')\n",
    "ax.set_ylabel('Values')\n",
    "\n",
    "plt.plot(range(len(index_Fibo)), Fibonacci_Series, 'bo') # Plotting data\n",
    "plt.xticks(range(len(index_Fibo)), index_Fibo) # Redefining x-axis labels\n",
    "\n",
    "for i, v in enumerate(Fibonacci_Series):\n",
    "#     plt.text(i.get_width()+0.5, i.get_y()+0.5, str(round((i.get_width()), 2)),\n",
    "#              fontsize = 10, fontweight ='bold', color ='grey')\n",
    "    ax.annotate(str(v), xy=(i,v), xytext=(-7,7), textcoords='offset points')\n",
    "    \n",
    "plt.show()"
   ]
  },
  {
   "cell_type": "code",
   "execution_count": null,
   "id": "3d336372",
   "metadata": {},
   "outputs": [],
   "source": []
  },
  {
   "cell_type": "code",
   "execution_count": null,
   "id": "6a8bba69",
   "metadata": {},
   "outputs": [],
   "source": []
  }
 ],
 "metadata": {
  "kernelspec": {
   "display_name": "Python 3 (ipykernel)",
   "language": "python",
   "name": "python3"
  },
  "language_info": {
   "codemirror_mode": {
    "name": "ipython",
    "version": 3
   },
   "file_extension": ".py",
   "mimetype": "text/x-python",
   "name": "python",
   "nbconvert_exporter": "python",
   "pygments_lexer": "ipython3",
   "version": "3.9.12"
  }
 },
 "nbformat": 4,
 "nbformat_minor": 5
}
