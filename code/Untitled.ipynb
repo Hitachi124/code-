{
 "cells": [
  {
   "cell_type": "code",
   "execution_count": null,
   "id": "a3f9f159",
   "metadata": {},
   "outputs": [],
   "source": [
    "import time\n",
    "import numpy\n",
    "import matplotlib.pyplot as plt"
   ]
  },
  {
   "cell_type": "code",
   "execution_count": null,
   "id": "51e2c079",
   "metadata": {},
   "outputs": [],
   "source": [
    "def login():\n",
    "    while 3>1:\n",
    "        keyword = input(\"vui long nhap password:\")\n",
    "        if keyword ==\"DH21HM\":\n",
    "            print(\"ban da nhap dung tiep tuc code\")\n",
    "            break;\n",
    "        else: \n",
    "            print(\"ban da nhap sai vui long nhap lai sao 3s\")\n",
    "            time.sleep(3)\n",
    "            def \n",
    "        "
   ]
  },
  {
   "cell_type": "code",
   "execution_count": null,
   "id": "a36d2eb2",
   "metadata": {},
   "outputs": [],
   "source": [
    "login()"
   ]
  },
  {
   "cell_type": "code",
   "execution_count": null,
   "id": "35cc5a13",
   "metadata": {},
   "outputs": [],
   "source": [
    "def fibonacci(n):\n",
    "    n= int(input(\"n,(n>=2):\"))\n",
    "    fibonacci_series=[0,1]\n",
    "    if n>= 2:\n",
    "        for i in range(2,n):\n",
    "            Fn=fibonacci_series[i-1]+fibonacci[i-2]\n",
    "            fibonacci_series.append(Fn)\n",
    "    print(fibonacci_series)"
   ]
  },
  {
   "cell_type": "code",
   "execution_count": null,
   "id": "0eb11626",
   "metadata": {},
   "outputs": [],
   "source": [
    "list_fn=fibonacci_series\n"
   ]
  },
  {
   "cell_type": "code",
   "execution_count": null,
   "id": "5322ef48",
   "metadata": {},
   "outputs": [],
   "source": []
  },
  {
   "cell_type": "code",
   "execution_count": null,
   "id": "ce8975d9",
   "metadata": {},
   "outputs": [],
   "source": []
  }
 ],
 "metadata": {
  "kernelspec": {
   "display_name": "Python 3 (ipykernel)",
   "language": "python",
   "name": "python3"
  },
  "language_info": {
   "codemirror_mode": {
    "name": "ipython",
    "version": 3
   },
   "file_extension": ".py",
   "mimetype": "text/x-python",
   "name": "python",
   "nbconvert_exporter": "python",
   "pygments_lexer": "ipython3",
   "version": "3.9.12"
  }
 },
 "nbformat": 4,
 "nbformat_minor": 5
}
