{
 "cells": [
  {
   "cell_type": "code",
   "execution_count": 1,
   "id": "ce1f87d6-c66d-4c36-b417-c144158f55e6",
   "metadata": {},
   "outputs": [],
   "source": [
    "from osgeo import gdal\n",
    "import rasterio  \n",
    "import os\n",
    "import rasterio\n",
    "import numpy as np\n",
    "\n"
   ]
  },
  {
   "cell_type": "code",
   "execution_count": 3,
   "id": "0e6e3d14-fc5a-4e9a-99ad-4c329260b322",
   "metadata": {
    "scrolled": true
   },
   "outputs": [],
   "source": [
    "# Đường dẫn tới thư mục chứa các file JP2\n",
    "img_data_path = \"/Users/lengochuynh/Downloads/S2A_20240302T045947.SAFE/GRANULE/L1C_T48PYS_A045403_20240302T032031/IMG_DATA\"\n",
    "\n",
    "# Đọc các băng RGB (B04, B03, B02)\n",
    "bands = {}\n",
    "for band_name, file_name in zip([\"B04\", \"B03\", \"B02\"], [\"T48PYS_20240302T030631_B04.jp2\", \"T48PYS_20240302T030631_B03.jp2\", \"T48PYS_20240302T030631_B02.jp2\"]):\n",
    "    file_path = os.path.join(img_data_path, file_name)\n",
    "    with rasterio.open(file_path) as src:\n",
    "        bands[band_name] = src.read(1)\n",
    "\n",
    "# Kết hợp các băng RGB\n",
    "rgb_image = np.stack([bands[\"B04\"], bands[\"B03\"], bands[\"B02\"]], axis=-1)\n"
   ]
  },
  {
   "cell_type": "code",
   "execution_count": 5,
   "id": "72cbc539-e3cb-4178-a58d-cf1f9e7fdb94",
   "metadata": {},
   "outputs": [],
   "source": [
    "import xml.etree.ElementTree as ET"
   ]
  },
  {
   "cell_type": "code",
   "execution_count": 7,
   "id": "e162ada6-5eab-450c-92d1-291999f85d36",
   "metadata": {},
   "outputs": [],
   "source": [
    "# Đọc file metadata XML\n",
    "metadata_path = \"/Users/lengochuynh/Downloads/S2A_20240302T045947.SAFE/MTD_MSIL1C.xml\"\n",
    "tree = ET.parse(metadata_path)\n",
    "root = tree.getroot()"
   ]
  },
  {
   "cell_type": "code",
   "execution_count": 9,
   "id": "6f00875b-5396-408c-82a3-386d8a4936bf",
   "metadata": {
    "scrolled": true
   },
   "outputs": [],
   "source": [
    "# Lấy góc tới mặt trời (Solar Zenith Angle)\n",
    "solar_angle = float(root.find(\".//Mean_Sun_Angle/ZENITH_ANGLE\").text)"
   ]
  },
  {
   "cell_type": "code",
   "execution_count": 13,
   "id": "5d620855-0bc7-4154-8398-37dddefd09f9",
   "metadata": {},
   "outputs": [],
   "source": [
    "# In ra toàn bộ cấu trúc XML để tìm đúng thẻ\n",
    "for elem in root.iter():\n",
    "    print(elem.tag, elem.text)"
   ]
  },
  {
   "cell_type": "code",
   "execution_count": 15,
   "id": "d943827c-e1bf-408c-9b59-30c28dd72057",
   "metadata": {},
   "outputs": [],
   "source": [
    "solar_angle = 30.0 "
   ]
  },
  {
   "cell_type": "code",
   "execution_count": 17,
   "id": "0aea0f02-1473-40bd-8108-1f4121aaf812",
   "metadata": {},
   "outputs": [],
   "source": [
    "# Lấy hệ số chuyển đổi M từ metadata\n",
    "scale_factors = {\n",
    "    \"B04\": float(root.find(\".//QUANTIFICATION_VALUE\").text),\n",
    "    \"B03\": float(root.find(\".//QUANTIFICATION_VALUE\").text),\n",
    "    \"B02\": float(root.find(\".//QUANTIFICATION_VALUE\").text),\n",
    "}\n"
   ]
  },
  {
   "cell_type": "code",
   "execution_count": 19,
   "id": "3d5759f7-8b92-434a-bb79-cd98938c2847",
   "metadata": {},
   "outputs": [],
   "source": [
    "# Chuyển đổi từng băng\n",
    "toa_bands = {}\n",
    "for band_name in bands:\n",
    "    toa_bands[band_name] = (bands[band_name] * scale_factors[band_name]) / np.cos(np.radians(solar_angle))\n"
   ]
  },
  {
   "cell_type": "code",
   "execution_count": 21,
   "id": "89b8e596-d259-4b2b-bd0e-12c6e6e45cf5",
   "metadata": {},
   "outputs": [],
   "source": [
    "#from Py6S import *"
   ]
  },
  {
   "cell_type": "code",
   "execution_count": 23,
   "id": "f206f2df-84e7-4067-997b-ac465f6fe9e8",
   "metadata": {},
   "outputs": [],
   "source": [
    "# Khởi tạo đối tượng SixS\n",
    "#s = SixS()\n",
    "\n",
    "# Thiết lập các tham số mô phỏng khí quyển\n",
    "# Ví dụ: sử dụng profile khí quyển nhiệt đới và profile aerosol hàng hải\n",
    "#s.atmos_profile = AtmosProfile.PredefinedType(AtmosProfile.Tropical)\n",
    "#s.aero_profile = AeroProfile.PredefinedType(AeroProfile.Maritime)\n",
    "\n",
    "# Chọn giá trị phản xạ mặt đất, giả sử là đất với phản xạ đồng nhất (0.2)\n",
    "#s.ground_reflectance = GroundReflectance.HomogeneousLambertian(0.2)\n",
    "# Thiết lập các tham số geometry (góc của mặt trời và máy quét)\n",
    "#s.geometry.solar_z = 30  # Góc tới mặt trời\n",
    "#s.geometry.view_z = 0  # Góc của máy quét (trực tiếp từ trên xuống)\n",
    "#s.geometry.month = 12  # Tháng thu thập dữ liệu\n",
    "#s.geometry.day = 7  # Ngày thu thập dữ liệu\n",
    "# Chạy mô phỏng\n",
    "#s.run()\n"
   ]
  },
  {
   "cell_type": "code",
   "execution_count": 25,
   "id": "6ecae48b-8b95-458d-97cb-afeabe19c202",
   "metadata": {},
   "outputs": [],
   "source": [
    "surface_reflectance = {}\n",
    "for band_name, band_data in toa_bands.items():\n",
    "    dark_pixel_value = np.percentile(band_data, 1)  # Giá trị pixel tối nhất (1%)\n",
    "    surface_reflectance[band_name] = band_data - dark_pixel_value"
   ]
  },
  {
   "cell_type": "code",
   "execution_count": 27,
   "id": "fca3acce-832d-4ff5-a2f4-68bcb9c1b93c",
   "metadata": {},
   "outputs": [],
   "source": [
    "# Kết hợp các băng đã hiệu chỉnh\n",
    "rgb_image = np.stack([surface_reflectance[\"B04\"], surface_reflectance[\"B03\"], surface_reflectance[\"B02\"]], axis=-1)\n"
   ]
  },
  {
   "cell_type": "code",
   "execution_count": 29,
   "id": "ba0608a7-0ac1-488d-bcd0-20054dca17c3",
   "metadata": {},
   "outputs": [],
   "source": [
    "# Chuẩn hóa để hiển thị\n",
    "def normalize(array):\n",
    "    return (array - array.min()) / (array.max() - array.min())\n",
    "\n",
    "rgb_image = normalize(rgb_image)"
   ]
  },
  {
   "cell_type": "code",
   "execution_count": 31,
   "id": "51c32b76-53d9-44f1-9d92-07d841a112af",
   "metadata": {},
   "outputs": [],
   "source": [
    "import rasterio\n",
    "from rasterio.enums import Resampling"
   ]
  },
  {
   "cell_type": "code",
   "execution_count": 47,
   "id": "de083159-82c7-4484-8422-ca92dfb07cd7",
   "metadata": {},
   "outputs": [
    {
     "name": "stdout",
     "output_type": "stream",
     "text": [
      "Ảnh đã được xuất thành công tại /Users/lengochuynh/Downloads/tt/rbg.tif\n"
     ]
    }
   ],
   "source": [
    "# Định nghĩa đường dẫn xuất ảnh\n",
    "output_path = \"/Users/lengochuynh/Downloads/tt/rbg.tif\"\n",
    "# Tạo một file raster mới và ghi ảnh đã chuẩn hóa vào đó\n",
    "with rasterio.open(output_path, 'w', driver='GTiff',\n",
    "                   height=rgb_image.shape[0], width=rgb_image.shape[1],\n",
    "                   count=3, dtype=rgb_image.dtype,\n",
    "                   crs=\"EPSG:3405\") as dst: # Đặt CRS nếu có (VD: EPSG:4326 là WGS84)\n",
    "                   #transform=dataset.transform) as dst:  # Dùng transform từ dataset (nếu có)\n",
    "    # Ghi các băng ảnh vào\n",
    "    for i in range(3):  # 3 băng cho RGB\n",
    "        dst.write(rgb_image[:, :, i], i + 1)\n",
    "\n",
    "print(f\"Ảnh đã được xuất thành công tại {output_path}\")\n"
   ]
  },
  {
   "cell_type": "code",
   "execution_count": null,
   "id": "091f026e-e092-4ad6-94fd-b574fb18e38e",
   "metadata": {},
   "outputs": [],
   "source": [
    "metadata_path = \"/Users/lengochuynh/Downloads/S2A_20240302T045947.SAFE/MTD_MSIL1C.xml\"\n",
    "tree = ET.parse(metadata_path)\n",
    "root = tree.getroot()\n",
    "# Lấy góc tới mặt trời (Solar Zenith Angle)\n",
    "solar_angle = float(root.find(\".//Mean_Sun_Angle/ZENITH_ANGLE\").text)\n",
    "# Lấy hệ số chuyển đổi M từ metadata\n",
    "scale_factors = {\n",
    "    \"B04\": float(root.find(\".//QUANTIFICATION_VALUE\").text),\n",
    "    \"B03\": float(root.find(\".//QUANTIFICATION_VALUE\").text),\n",
    "    \"B02\": float(root.find(\".//QUANTIFICATION_VALUE\").text),\n",
    "}\n",
    "# Chuyển đổi từng băng\n",
    "toa_bands = {}\n",
    "for band_name in bands:\n",
    "    toa_bands[band_name] = (bands[band_name] * scale_factors[band_name]) / np.cos(np.radians(solar_angle))\n"
   ]
  }
 ],
 "metadata": {
  "kernelspec": {
   "display_name": "Python 3 (ipykernel)",
   "language": "python",
   "name": "python3"
  },
  "language_info": {
   "codemirror_mode": {
    "name": "ipython",
    "version": 3
   },
   "file_extension": ".py",
   "mimetype": "text/x-python",
   "name": "python",
   "nbconvert_exporter": "python",
   "pygments_lexer": "ipython3",
   "version": "3.12.2"
  }
 },
 "nbformat": 4,
 "nbformat_minor": 5
}
