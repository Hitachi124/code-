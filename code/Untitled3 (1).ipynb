{
 "cells": [
  {
   "cell_type": "code",
   "execution_count": null,
   "id": "56376e70",
   "metadata": {},
   "outputs": [],
   "source": [
    "#Q1\n",
    "import numpy as np\n",
    "arr = np.array([[5, 4, 3, 9],[2, 7, 0, 6], [1, 3, 4, 4],[8, 9, 0, 3]])\n",
    "for i in range(len(arr)):\n",
    "    for j in range(len(arr)):\n",
    "        if arr[i][j]==0:\n",
    "            arr=[0]*(arr[i][j])\n",
    "            \n",
    "            print(arr)\n",
    "        \n",
    "            \n",
    "\n",
    "        \n",
    "            \n",
    "        \n",
    "        \n",
    "        "
   ]
  },
  {
   "cell_type": "code",
   "execution_count": null,
   "id": "ef1f524b",
   "metadata": {},
   "outputs": [],
   "source": [
    "#Q2\n",
    "import numpy as np\n",
    "sub=[]\n",
    "arr_1=np.array([12,15,19,14,11,9,10,6,17,3])\n",
    "for i in range(len(arr_1)):\n",
    "    for j in range(i+1,len(arr_1)):\n",
    "        sb=j-i\n",
    "        sub.append(sb)\n",
    "a1=max(sub)\n",
    "print(a1)\n",
    "for i in range(len(arr_1)):\n",
    "    for j in range(i+1,len(arr_1)):\n",
    "        if j-i== a1:\n",
    "            print(i,j)\n",
    "            \n",
    "        \n",
    "        \n",
    "        \n",
    "        \n",
    "        \n",
    "        \n",
    "        \n",
    "        "
   ]
  },
  {
   "cell_type": "code",
   "execution_count": null,
   "id": "e30b13b7",
   "metadata": {},
   "outputs": [],
   "source": [
    "#Q3\n",
    "import numpy as np\n",
    "min_arr=[]\n",
    "max_arr=[]\n",
    "arr_2=np.array([[2,4],[1,2],[4,9],[0,3],[2,7]])               \n",
    "for i in range(len(arr_2)):\n",
    "    a= min(arr_2[i])\n",
    "    b= max(arr_2[i])\n",
    "    min_arr.append(a)\n",
    "    max_arr.append(b)\n",
    "minimun=min(min_arr)\n",
    "maximun=max(max_arr)\n",
    "print([minimun,maximun]) "
   ]
  },
  {
   "cell_type": "code",
   "execution_count": null,
   "id": "1d05020d",
   "metadata": {},
   "outputs": [],
   "source": []
  },
  {
   "cell_type": "code",
   "execution_count": null,
   "id": "7c166f07",
   "metadata": {},
   "outputs": [],
   "source": [
    "\n"
   ]
  },
  {
   "cell_type": "code",
   "execution_count": null,
   "id": "756dade9",
   "metadata": {},
   "outputs": [],
   "source": []
  }
 ],
 "metadata": {
  "kernelspec": {
   "display_name": "Python 3 (ipykernel)",
   "language": "python",
   "name": "python3"
  },
  "language_info": {
   "codemirror_mode": {
    "name": "ipython",
    "version": 3
   },
   "file_extension": ".py",
   "mimetype": "text/x-python",
   "name": "python",
   "nbconvert_exporter": "python",
   "pygments_lexer": "ipython3",
   "version": "3.9.12"
  }
 },
 "nbformat": 4,
 "nbformat_minor": 5
}
