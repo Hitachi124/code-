{
 "cells": [
  {
   "cell_type": "code",
   "execution_count": null,
   "id": "e0b86b4c-fb90-4686-aadc-4a48b39bfbac",
   "metadata": {},
   "outputs": [],
   "source": [
    "conda install -c conda-forge gdal"
   ]
  },
  {
   "cell_type": "code",
   "execution_count": null,
   "id": "b9f4b2f9-a689-468e-88bf-3b4ab7597219",
   "metadata": {},
   "outputs": [],
   "source": [
    "conda install -c conda-forge rasterio"
   ]
  },
  {
   "cell_type": "code",
   "execution_count": null,
   "id": "ba18a07b-3f26-4955-82c6-c56386bcd2d7",
   "metadata": {},
   "outputs": [],
   "source": [
    "pip install xarray"
   ]
  },
  {
   "cell_type": "code",
   "execution_count": null,
   "id": "dcd206c5-f30b-4ff0-bf1d-7f9c89d6a413",
   "metadata": {},
   "outputs": [],
   "source": [
    "pip install geopandas"
   ]
  },
  {
   "cell_type": "code",
   "execution_count": null,
   "id": "9ac0d6a5-2785-4e1d-9a1e-90acf30d026f",
   "metadata": {},
   "outputs": [],
   "source": [
    "pip install shapely"
   ]
  },
  {
   "cell_type": "code",
   "execution_count": null,
   "id": "444efc8b-6851-4bf3-b3c4-24270aa36cd0",
   "metadata": {},
   "outputs": [],
   "source": [
    "pip install rasterstats"
   ]
  },
  {
   "cell_type": "code",
   "execution_count": null,
   "id": "fbc78b8b-681e-407b-9d7c-bfe4d2064edc",
   "metadata": {},
   "outputs": [],
   "source": [
    "pip install pyproj"
   ]
  },
  {
   "cell_type": "code",
   "execution_count": null,
   "id": "afe4085b-b66c-4079-b393-db4c5f626f50",
   "metadata": {},
   "outputs": [],
   "source": [
    "pip install scipy"
   ]
  },
  {
   "cell_type": "code",
   "execution_count": null,
   "id": "d7118ca3-cb8b-4252-a88f-8363abf0f781",
   "metadata": {},
   "outputs": [],
   "source": [
    "pip install scikit-learn"
   ]
  },
  {
   "cell_type": "code",
   "execution_count": null,
   "id": "a57817cf-f366-4107-870c-e38bd0a6fdee",
   "metadata": {},
   "outputs": [],
   "source": [
    "pip install tensorflow"
   ]
  },
  {
   "cell_type": "code",
   "execution_count": null,
   "id": "e50a83d2-562e-4b01-8bd3-a5f02c015653",
   "metadata": {},
   "outputs": [],
   "source": [
    "pip install torch torchvision"
   ]
  },
  {
   "cell_type": "code",
   "execution_count": null,
   "id": "c4f48797-1f00-4b26-bc0d-1921b85dd903",
   "metadata": {},
   "outputs": [],
   "source": [
    "pip install seaborn"
   ]
  },
  {
   "cell_type": "code",
   "execution_count": null,
   "id": "615298ef-1619-40a2-9efa-4f54263e19a2",
   "metadata": {},
   "outputs": [],
   "source": [
    "pip install folium"
   ]
  },
  {
   "cell_type": "code",
   "execution_count": null,
   "id": "248ed12f-52b7-45eb-a4e3-38553d5bab29",
   "metadata": {},
   "outputs": [],
   "source": [
    "pip install dask"
   ]
  },
  {
   "cell_type": "code",
   "execution_count": null,
   "id": "c5cbb1e5-a129-4673-8d26-d41369afa553",
   "metadata": {},
   "outputs": [],
   "source": [
    "pip install zarr"
   ]
  },
  {
   "cell_type": "code",
   "execution_count": null,
   "id": "226d06d1-5828-415c-9221-a32c46f5988a",
   "metadata": {},
   "outputs": [],
   "source": [
    "pip install earthengine-api"
   ]
  },
  {
   "cell_type": "code",
   "execution_count": null,
   "id": "a669012b-042c-4025-863a-64437f3254eb",
   "metadata": {},
   "outputs": [],
   "source": [
    "pip install gdal"
   ]
  },
  {
   "cell_type": "code",
   "execution_count": null,
   "id": "2ef3bd11-b75e-4fd4-84b1-cffad4000c81",
   "metadata": {},
   "outputs": [],
   "source": [
    "!which python"
   ]
  },
  {
   "cell_type": "code",
   "execution_count": null,
   "id": "4de8b85b-c7c1-44e6-862b-7f2747337a99",
   "metadata": {},
   "outputs": [],
   "source": [
    "!python --version\n",
    "!pip show gdal"
   ]
  },
  {
   "cell_type": "code",
   "execution_count": null,
   "id": "93278742-e99e-4b0c-a8a9-083b63ba83a6",
   "metadata": {},
   "outputs": [],
   "source": [
    "!pip install gdal"
   ]
  },
  {
   "cell_type": "code",
   "execution_count": null,
   "id": "d96164ef-c08d-450b-a1a6-e13559bcbb6d",
   "metadata": {},
   "outputs": [],
   "source": [
    "!pip install ipykernel\n",
    "python -m ipykernel install --user --name=<your_environment_name>"
   ]
  },
  {
   "cell_type": "code",
   "execution_count": null,
   "id": "232897d3-b674-46a4-8fea-1b7757a8fbb4",
   "metadata": {},
   "outputs": [
    {
     "name": "stdout",
     "output_type": "stream",
     "text": [
      "Found existing installation: GDAL 3.6.2\n",
      "Uninstalling GDAL-3.6.2:\n",
      "  Would remove:\n",
      "    /opt/anaconda3/bin/gdal2tiles.py\n",
      "    /opt/anaconda3/bin/gdal2xyz.py\n",
      "    /opt/anaconda3/bin/gdal_calc.py\n",
      "    /opt/anaconda3/bin/gdal_edit.py\n",
      "    /opt/anaconda3/bin/gdal_fillnodata.py\n",
      "    /opt/anaconda3/bin/gdal_merge.py\n",
      "    /opt/anaconda3/bin/gdal_pansharpen.py\n",
      "    /opt/anaconda3/bin/gdal_polygonize.py\n",
      "    /opt/anaconda3/bin/gdal_proximity.py\n",
      "    /opt/anaconda3/bin/gdal_retile.py\n",
      "    /opt/anaconda3/bin/gdal_sieve.py\n",
      "    /opt/anaconda3/bin/gdalattachpct.py\n",
      "    /opt/anaconda3/bin/gdalcompare.py\n",
      "    /opt/anaconda3/bin/gdalmove.py\n",
      "    /opt/anaconda3/bin/ogr_layer_algebra.py\n",
      "    /opt/anaconda3/bin/ogrmerge.py\n",
      "    /opt/anaconda3/bin/pct2rgb.py\n",
      "    /opt/anaconda3/bin/rgb2pct.py\n",
      "    /opt/anaconda3/lib/python3.12/site-packages/GDAL-3.6.2.dist-info/*\n",
      "    /opt/anaconda3/lib/python3.12/site-packages/osgeo/*\n",
      "    /opt/anaconda3/lib/python3.12/site-packages/osgeo_utils/*\n",
      "Proceed (Y/n)? "
     ]
    }
   ],
   "source": [
    "!pip uninstall gdal\n"
   ]
  },
  {
   "cell_type": "code",
   "execution_count": null,
   "id": "348b17ec-3209-4216-9fd5-eaf98b6ae601",
   "metadata": {},
   "outputs": [],
   "source": [
    "!pip install gdal"
   ]
  },
  {
   "cell_type": "code",
   "execution_count": 3,
   "id": "8b7c3713-3998-47c2-8050-4a4d81e4a60f",
   "metadata": {},
   "outputs": [
    {
     "name": "stdout",
     "output_type": "stream",
     "text": [
      "Collecting py6s\n",
      "  Downloading Py6S-1.9.2.tar.gz (80 kB)\n",
      "  Installing build dependencies ... \u001b[?25ldone\n",
      "\u001b[?25h  Getting requirements to build wheel ... \u001b[?25ldone\n",
      "\u001b[?25h  Preparing metadata (pyproject.toml) ... \u001b[?25ldone\n",
      "\u001b[?25hCollecting pysolar>=0.9 (from py6s)\n",
      "  Downloading pysolar-0.11-py3-none-any.whl.metadata (331 bytes)\n",
      "Requirement already satisfied: scipy in /opt/anaconda3/lib/python3.12/site-packages (from py6s) (1.12.0)\n",
      "Requirement already satisfied: numpy in /opt/anaconda3/lib/python3.12/site-packages (from pysolar>=0.9->py6s) (1.26.4)\n",
      "Downloading pysolar-0.11-py3-none-any.whl (47 kB)\n",
      "Building wheels for collected packages: py6s\n",
      "  Building wheel for py6s (pyproject.toml) ... \u001b[?25ldone\n",
      "\u001b[?25h  Created wheel for py6s: filename=Py6S-1.9.2-py3-none-any.whl size=92224 sha256=b2205c33f70fcf6ae27bf8cfbf5bc3f34d59f2576ae6ffd708f056ad0b8964b4\n",
      "  Stored in directory: /Users/lengochuynh/Library/Caches/pip/wheels/3a/9c/b0/903313a808b0814357ca030090d682b85ffb96e126776cee67\n",
      "Successfully built py6s\n",
      "Installing collected packages: pysolar, py6s\n",
      "Successfully installed py6s-1.9.2 pysolar-0.11\n",
      "Note: you may need to restart the kernel to use updated packages.\n"
     ]
    }
   ],
   "source": [
    "pip install py6s"
   ]
  },
  {
   "cell_type": "code",
   "execution_count": null,
   "id": "d60e430c-1cbc-404b-9932-7cac41050134",
   "metadata": {},
   "outputs": [
    {
     "name": "stdout",
     "output_type": "stream",
     "text": [
      "Retrieving notices: done\n",
      "Channels:\n",
      " - conda-forge\n",
      " - defaults\n",
      "Platform: osx-arm64\n",
      "Collecting package metadata (repodata.json): done\n",
      "Solving environment: done\n",
      "\n",
      "## Package Plan ##\n",
      "\n",
      "  environment location: /opt/anaconda3/envs/py6s-env\n",
      "\n",
      "  added / updated specs:\n",
      "    - ipython\n",
      "    - jupyter\n",
      "    - py6s\n",
      "\n",
      "\n",
      "The following packages will be downloaded:\n",
      "\n",
      "    package                    |            build\n",
      "    ---------------------------|-----------------\n",
      "    anyio-4.7.0                |     pyhd8ed1ab_0         110 KB  conda-forge\n",
      "    appnope-0.1.4              |     pyhd8ed1ab_1          10 KB  conda-forge\n",
      "    argon2-cffi-23.1.0         |     pyhd8ed1ab_1          18 KB  conda-forge\n",
      "    argon2-cffi-bindings-21.2.0|  py313h20a7fcf_5          32 KB  conda-forge\n",
      "    arrow-1.3.0                |     pyhd8ed1ab_0          98 KB  conda-forge\n",
      "    asttokens-3.0.0            |     pyhd8ed1ab_1          28 KB  conda-forge\n",
      "    async-lru-2.0.4            |     pyhd8ed1ab_0          15 KB  conda-forge\n",
      "    attrs-24.2.0               |     pyh71513ae_1          55 KB  conda-forge\n",
      "    babel-2.16.0               |     pyhd8ed1ab_1         6.2 MB  conda-forge\n",
      "    beautifulsoup4-4.12.3      |     pyha770c72_1         115 KB  conda-forge\n",
      "    bleach-6.2.0               |     pyhd8ed1ab_1         130 KB  conda-forge\n",
      "    brotli-python-1.1.0        |  py313h3579c5c_2         331 KB  conda-forge\n",
      "    bzip2-1.0.8                |       h99b78c6_7         120 KB  conda-forge\n",
      "    ca-certificates-2024.8.30  |       hf0a4a13_0         155 KB  conda-forge\n",
      "    cached-property-1.5.2      |       hd8ed1ab_1           4 KB  conda-forge\n",
      "    cached_property-1.5.2      |     pyha770c72_1          11 KB  conda-forge\n",
      "    cffi-1.17.1                |  py313hc845a76_0         276 KB  conda-forge\n",
      "    charset-normalizer-3.4.0   |     pyhd8ed1ab_1          46 KB  conda-forge\n",
      "    comm-0.2.2                 |     pyhd8ed1ab_1          12 KB  conda-forge\n",
      "    debugpy-1.8.9              |  py313h928ef07_0         2.4 MB  conda-forge\n",
      "    decorator-5.1.1            |     pyhd8ed1ab_1          14 KB  conda-forge\n",
      "    defusedxml-0.7.1           |     pyhd8ed1ab_0          23 KB  conda-forge\n",
      "    entrypoints-0.4            |     pyhd8ed1ab_1          11 KB  conda-forge\n",
      "    exceptiongroup-1.2.2       |     pyhd8ed1ab_1          20 KB  conda-forge\n",
      "    executing-2.1.0            |     pyhd8ed1ab_1          28 KB  conda-forge\n",
      "    fqdn-1.5.1                 |     pyhd8ed1ab_1          16 KB  conda-forge\n",
      "    h11-0.14.0                 |     pyhd8ed1ab_1          51 KB  conda-forge\n",
      "    h2-4.1.0                   |     pyhd8ed1ab_1          51 KB  conda-forge\n",
      "    hpack-4.0.0                |     pyhd8ed1ab_1          29 KB  conda-forge\n",
      "    httpcore-1.0.7             |     pyh29332c3_1          48 KB  conda-forge\n",
      "    httpx-0.28.0               |     pyhd8ed1ab_1          62 KB  conda-forge\n",
      "    hyperframe-6.0.1           |     pyhd8ed1ab_1          17 KB  conda-forge\n",
      "    idna-3.10                  |     pyhd8ed1ab_1          49 KB  conda-forge\n",
      "    importlib-metadata-8.5.0   |     pyha770c72_1          28 KB  conda-forge\n",
      "    importlib_resources-6.4.5  |     pyhd8ed1ab_1          32 KB  conda-forge\n",
      "    ipykernel-6.29.5           |     pyh57ce528_0         117 KB  conda-forge\n",
      "    ipython-8.30.0             |     pyh707e725_0         586 KB  conda-forge\n",
      "    ipywidgets-8.1.5           |     pyhd8ed1ab_1         111 KB  conda-forge\n",
      "    isoduration-20.11.0        |     pyhd8ed1ab_1          19 KB  conda-forge\n",
      "    jedi-0.19.2                |     pyhd8ed1ab_1         824 KB  conda-forge\n",
      "    jinja2-3.1.4               |     pyhd8ed1ab_1         108 KB  conda-forge\n",
      "    json5-0.10.0               |     pyhd8ed1ab_1          31 KB  conda-forge\n",
      "    jsonpointer-3.0.0          |  py313h8f79df9_1          18 KB  conda-forge\n",
      "    jsonschema-4.23.0          |     pyhd8ed1ab_1          73 KB  conda-forge\n",
      "    jsonschema-specifications-2024.10.1|     pyhd8ed1ab_1          16 KB  conda-forge\n",
      "    jsonschema-with-format-nongpl-4.23.0|       hd8ed1ab_1           7 KB  conda-forge\n",
      "    jupyter-1.1.1              |     pyhd8ed1ab_0           9 KB  conda-forge\n",
      "    jupyter-lsp-2.2.5          |     pyhd8ed1ab_1          54 KB  conda-forge\n",
      "    jupyter_client-8.6.3       |     pyhd8ed1ab_1         104 KB  conda-forge\n",
      "    jupyter_console-6.6.3      |     pyhd8ed1ab_0          26 KB  conda-forge\n",
      "    jupyter_core-5.7.2         |     pyh31011fe_1          56 KB  conda-forge\n",
      "    jupyter_events-0.10.0      |     pyhd8ed1ab_1          21 KB  conda-forge\n",
      "    jupyter_server-2.14.2      |     pyhd8ed1ab_1         317 KB  conda-forge\n",
      "    jupyter_server_terminals-0.5.3|     pyhd8ed1ab_1          19 KB  conda-forge\n",
      "    jupyterlab-4.3.2           |     pyhd8ed1ab_0         7.1 MB  conda-forge\n",
      "    jupyterlab_pygments-0.3.0  |     pyhd8ed1ab_2          18 KB  conda-forge\n",
      "    jupyterlab_server-2.27.3   |     pyhd8ed1ab_0          48 KB  conda-forge\n",
      "    jupyterlab_widgets-3.0.13  |     pyhd8ed1ab_1         182 KB  conda-forge\n",
      "    krb5-1.21.3                |       h237132a_0         1.1 MB  conda-forge\n",
      "    libblas-3.9.0              |25_osxarm64_openblas          16 KB  conda-forge\n",
      "    libcblas-3.9.0             |25_osxarm64_openblas          15 KB  conda-forge\n",
      "    libedit-3.1.20191231       |       hc8eb9b7_2          94 KB  conda-forge\n",
      "    libffi-3.4.2               |       h3422bc3_5          38 KB  conda-forge\n",
      "    liblapack-3.9.0            |25_osxarm64_openblas          15 KB  conda-forge\n",
      "    libmpdec-4.0.0             |       h99b78c6_0          68 KB  conda-forge\n",
      "    libopenblas-0.3.28         |openmp_hf332438_1         4.0 MB  conda-forge\n",
      "    libsodium-1.0.20           |       h99b78c6_0         161 KB  conda-forge\n",
      "    markupsafe-3.0.2           |  py313ha9b7d5b_1          24 KB  conda-forge\n",
      "    matplotlib-inline-0.1.7    |     pyhd8ed1ab_1          14 KB  conda-forge\n",
      "    mistune-3.0.2              |     pyhd8ed1ab_1          64 KB  conda-forge\n",
      "    nbclient-0.10.1            |     pyhd8ed1ab_0          27 KB  conda-forge\n",
      "    nbconvert-core-7.16.4      |     pyhff2d567_2         184 KB  conda-forge\n",
      "    nbformat-5.10.4            |     pyhd8ed1ab_1          99 KB  conda-forge\n",
      "    nest-asyncio-1.6.0         |     pyhd8ed1ab_1          11 KB  conda-forge\n",
      "    notebook-7.3.1             |     pyhd8ed1ab_0         9.0 MB  conda-forge\n",
      "    notebook-shim-0.2.4        |     pyhd8ed1ab_1          16 KB  conda-forge\n",
      "    numpy-2.1.3                |  py313hca4752e_0         6.2 MB  conda-forge\n",
      "    overrides-7.7.0            |     pyhd8ed1ab_0          30 KB  conda-forge\n",
      "    packaging-24.2             |     pyhd8ed1ab_2          59 KB  conda-forge\n",
      "    pandocfilters-1.5.0        |     pyhd8ed1ab_0          11 KB  conda-forge\n",
      "    parso-0.8.4                |     pyhd8ed1ab_1          74 KB  conda-forge\n",
      "    pexpect-4.9.0              |     pyhd8ed1ab_1          52 KB  conda-forge\n",
      "    pickleshare-0.7.5          |  pyhd8ed1ab_1004          11 KB  conda-forge\n",
      "    pip-24.3.1                 |     pyh145f28c_0         1.2 MB  conda-forge\n",
      "    pkgutil-resolve-name-1.3.10|     pyhd8ed1ab_2          10 KB  conda-forge\n",
      "    platformdirs-4.3.6         |     pyhd8ed1ab_1          20 KB  conda-forge\n",
      "    prometheus_client-0.21.1   |     pyhd8ed1ab_0          48 KB  conda-forge\n",
      "    prompt-toolkit-3.0.48      |     pyha770c72_1         264 KB  conda-forge\n",
      "    prompt_toolkit-3.0.48      |       hd8ed1ab_1           6 KB  conda-forge\n",
      "    psutil-6.1.0               |  py313h63a2874_0         490 KB  conda-forge\n",
      "    ptyprocess-0.7.0           |     pyhd8ed1ab_1          19 KB  conda-forge\n",
      "    pure_eval-0.2.3            |     pyhd8ed1ab_1          16 KB  conda-forge\n",
      "    py6s-1.9.2                 |     pyhd8ed1ab_0          73 KB  conda-forge\n",
      "    pycparser-2.22             |     pyh29332c3_1         108 KB  conda-forge\n",
      "    pygments-2.18.0            |     pyhd8ed1ab_1         856 KB  conda-forge\n",
      "    pyobjc-core-10.3.2         |  py313hb6afeec_0         478 KB  conda-forge\n",
      "    pyobjc-framework-cocoa-10.3.2|  py313hb6afeec_0         371 KB  conda-forge\n",
      "    pysocks-1.7.1              |     pyha55dd90_7          21 KB  conda-forge\n",
      "    pysolar-0.11               |     pyhd8ed1ab_0          43 KB  conda-forge\n",
      "    python-3.13.1              |h4f43103_102_cp313        12.3 MB  conda-forge\n",
      "    python-dateutil-2.9.0.post0|     pyhff2d567_1         217 KB  conda-forge\n",
      "    python-fastjsonschema-2.21.1|     pyhd8ed1ab_0         221 KB  conda-forge\n",
      "    python-json-logger-2.0.7   |     pyhd8ed1ab_0          13 KB  conda-forge\n",
      "    python_abi-3.13            |          5_cp313           6 KB  conda-forge\n",
      "    pytz-2024.2                |     pyhd8ed1ab_1         182 KB  conda-forge\n",
      "    pyyaml-6.0.2               |  py313h20a7fcf_1         183 KB  conda-forge\n",
      "    pyzmq-26.2.0               |  py313h0e8b002_3         357 KB  conda-forge\n",
      "    readline-8.2               |       h92ec313_1         244 KB  conda-forge\n",
      "    referencing-0.35.1         |     pyhd8ed1ab_1          41 KB  conda-forge\n",
      "    requests-2.32.3            |     pyhd8ed1ab_1          57 KB  conda-forge\n",
      "    rfc3339-validator-0.1.4    |     pyhd8ed1ab_0           8 KB  conda-forge\n",
      "    rfc3986-validator-0.1.1    |     pyh9f0ad1d_0           8 KB  conda-forge\n",
      "    rpds-py-0.22.3             |  py313hdde674f_0         311 KB  conda-forge\n",
      "    scipy-1.14.1               |  py313hb3ee861_1        14.6 MB  conda-forge\n",
      "    send2trash-1.8.3           |     pyh31c8845_1          23 KB  conda-forge\n",
      "    setuptools-75.6.0          |     pyhff2d567_1         756 KB  conda-forge\n",
      "    six-1.17.0                 |     pyhd8ed1ab_0          16 KB  conda-forge\n",
      "    sixs-1.1.3                 |       hbec66e7_2         483 KB  conda-forge\n",
      "    sniffio-1.3.1              |     pyhd8ed1ab_1          15 KB  conda-forge\n",
      "    soupsieve-2.5              |     pyhd8ed1ab_1          36 KB  conda-forge\n",
      "    stack_data-0.6.3           |     pyhd8ed1ab_1          26 KB  conda-forge\n",
      "    terminado-0.18.1           |     pyh31c8845_0          22 KB  conda-forge\n",
      "    tinycss2-1.4.0             |     pyhd8ed1ab_0          28 KB  conda-forge\n",
      "    tomli-2.2.1                |     pyhd8ed1ab_1          19 KB  conda-forge\n",
      "    tornado-6.4.2              |  py313h90d716c_0         843 KB  conda-forge\n",
      "    traitlets-5.14.3           |     pyhd8ed1ab_1         107 KB  conda-forge\n",
      "    types-python-dateutil-2.9.0.20241003|     pyhd8ed1ab_1          21 KB  conda-forge\n",
      "    typing-extensions-4.12.2   |       hd8ed1ab_1          10 KB  conda-forge\n",
      "    typing_extensions-4.12.2   |     pyha770c72_1          39 KB  conda-forge\n",
      "    typing_utils-0.1.0         |     pyhd8ed1ab_1          15 KB  conda-forge\n",
      "    tzdata-2024b               |       hc8b5060_0         119 KB  conda-forge\n",
      "    uri-template-1.3.0         |     pyhd8ed1ab_1          23 KB  conda-forge\n",
      "    urllib3-2.2.3              |     pyhd8ed1ab_1          96 KB  conda-forge\n",
      "    wcwidth-0.2.13             |     pyhd8ed1ab_1          32 KB  conda-forge\n",
      "    webcolors-24.11.1          |     pyhd8ed1ab_0          18 KB  conda-forge\n",
      "    webencodings-0.5.1         |     pyhd8ed1ab_3          15 KB  conda-forge\n",
      "    websocket-client-1.8.0     |     pyhd8ed1ab_1          46 KB  conda-forge\n",
      "    widgetsnbextension-4.0.13  |     pyhd8ed1ab_1         877 KB  conda-forge\n",
      "    yaml-0.2.5                 |       h3422bc3_2          86 KB  conda-forge\n",
      "    zeromq-4.3.5               |       hc1bb282_7         275 KB  conda-forge\n",
      "    zipp-3.21.0                |     pyhd8ed1ab_1          21 KB  conda-forge\n",
      "    zstandard-0.23.0           |  py313hf2da073_1         329 KB  conda-forge\n",
      "    ------------------------------------------------------------\n",
      "                                           Total:        78.6 MB\n",
      "\n",
      "The following NEW packages will be INSTALLED:\n",
      "\n",
      "  anyio              conda-forge/noarch::anyio-4.7.0-pyhd8ed1ab_0 \n",
      "  appnope            conda-forge/noarch::appnope-0.1.4-pyhd8ed1ab_1 \n",
      "  argon2-cffi        conda-forge/noarch::argon2-cffi-23.1.0-pyhd8ed1ab_1 \n",
      "  argon2-cffi-bindi~ conda-forge/osx-arm64::argon2-cffi-bindings-21.2.0-py313h20a7fcf_5 \n",
      "  arrow              conda-forge/noarch::arrow-1.3.0-pyhd8ed1ab_0 \n",
      "  asttokens          conda-forge/noarch::asttokens-3.0.0-pyhd8ed1ab_1 \n",
      "  async-lru          conda-forge/noarch::async-lru-2.0.4-pyhd8ed1ab_0 \n",
      "  attrs              conda-forge/noarch::attrs-24.2.0-pyh71513ae_1 \n",
      "  babel              conda-forge/noarch::babel-2.16.0-pyhd8ed1ab_1 \n",
      "  beautifulsoup4     conda-forge/noarch::beautifulsoup4-4.12.3-pyha770c72_1 \n",
      "  bleach             conda-forge/noarch::bleach-6.2.0-pyhd8ed1ab_1 \n",
      "  brotli-python      conda-forge/osx-arm64::brotli-python-1.1.0-py313h3579c5c_2 \n",
      "  bzip2              conda-forge/osx-arm64::bzip2-1.0.8-h99b78c6_7 \n",
      "  ca-certificates    conda-forge/osx-arm64::ca-certificates-2024.8.30-hf0a4a13_0 \n",
      "  cached-property    conda-forge/noarch::cached-property-1.5.2-hd8ed1ab_1 \n",
      "  cached_property    conda-forge/noarch::cached_property-1.5.2-pyha770c72_1 \n",
      "  certifi            conda-forge/noarch::certifi-2024.8.30-pyhd8ed1ab_0 \n",
      "  cffi               conda-forge/osx-arm64::cffi-1.17.1-py313hc845a76_0 \n",
      "  charset-normalizer conda-forge/noarch::charset-normalizer-3.4.0-pyhd8ed1ab_1 \n",
      "  comm               conda-forge/noarch::comm-0.2.2-pyhd8ed1ab_1 \n",
      "  debugpy            conda-forge/osx-arm64::debugpy-1.8.9-py313h928ef07_0 \n",
      "  decorator          conda-forge/noarch::decorator-5.1.1-pyhd8ed1ab_1 \n",
      "  defusedxml         conda-forge/noarch::defusedxml-0.7.1-pyhd8ed1ab_0 \n",
      "  entrypoints        conda-forge/noarch::entrypoints-0.4-pyhd8ed1ab_1 \n",
      "  exceptiongroup     conda-forge/noarch::exceptiongroup-1.2.2-pyhd8ed1ab_1 \n",
      "  executing          conda-forge/noarch::executing-2.1.0-pyhd8ed1ab_1 \n",
      "  fqdn               conda-forge/noarch::fqdn-1.5.1-pyhd8ed1ab_1 \n",
      "  h11                conda-forge/noarch::h11-0.14.0-pyhd8ed1ab_1 \n",
      "  h2                 conda-forge/noarch::h2-4.1.0-pyhd8ed1ab_1 \n",
      "  hpack              conda-forge/noarch::hpack-4.0.0-pyhd8ed1ab_1 \n",
      "  httpcore           conda-forge/noarch::httpcore-1.0.7-pyh29332c3_1 \n",
      "  httpx              conda-forge/noarch::httpx-0.28.0-pyhd8ed1ab_1 \n",
      "  hyperframe         conda-forge/noarch::hyperframe-6.0.1-pyhd8ed1ab_1 \n",
      "  idna               conda-forge/noarch::idna-3.10-pyhd8ed1ab_1 \n",
      "  importlib-metadata conda-forge/noarch::importlib-metadata-8.5.0-pyha770c72_1 \n",
      "  importlib_resourc~ conda-forge/noarch::importlib_resources-6.4.5-pyhd8ed1ab_1 \n",
      "  ipykernel          conda-forge/noarch::ipykernel-6.29.5-pyh57ce528_0 \n",
      "  ipython            conda-forge/noarch::ipython-8.30.0-pyh707e725_0 \n",
      "  ipywidgets         conda-forge/noarch::ipywidgets-8.1.5-pyhd8ed1ab_1 \n",
      "  isoduration        conda-forge/noarch::isoduration-20.11.0-pyhd8ed1ab_1 \n",
      "  jedi               conda-forge/noarch::jedi-0.19.2-pyhd8ed1ab_1 \n",
      "  jinja2             conda-forge/noarch::jinja2-3.1.4-pyhd8ed1ab_1 \n",
      "  json5              conda-forge/noarch::json5-0.10.0-pyhd8ed1ab_1 \n",
      "  jsonpointer        conda-forge/osx-arm64::jsonpointer-3.0.0-py313h8f79df9_1 \n",
      "  jsonschema         conda-forge/noarch::jsonschema-4.23.0-pyhd8ed1ab_1 \n",
      "  jsonschema-specif~ conda-forge/noarch::jsonschema-specifications-2024.10.1-pyhd8ed1ab_1 \n",
      "  jsonschema-with-f~ conda-forge/noarch::jsonschema-with-format-nongpl-4.23.0-hd8ed1ab_1 \n",
      "  jupyter            conda-forge/noarch::jupyter-1.1.1-pyhd8ed1ab_0 \n",
      "  jupyter-lsp        conda-forge/noarch::jupyter-lsp-2.2.5-pyhd8ed1ab_1 \n",
      "  jupyter_client     conda-forge/noarch::jupyter_client-8.6.3-pyhd8ed1ab_1 \n",
      "  jupyter_console    conda-forge/noarch::jupyter_console-6.6.3-pyhd8ed1ab_0 \n",
      "  jupyter_core       conda-forge/noarch::jupyter_core-5.7.2-pyh31011fe_1 \n",
      "  jupyter_events     conda-forge/noarch::jupyter_events-0.10.0-pyhd8ed1ab_1 \n",
      "  jupyter_server     conda-forge/noarch::jupyter_server-2.14.2-pyhd8ed1ab_1 \n",
      "  jupyter_server_te~ conda-forge/noarch::jupyter_server_terminals-0.5.3-pyhd8ed1ab_1 \n",
      "  jupyterlab         conda-forge/noarch::jupyterlab-4.3.2-pyhd8ed1ab_0 \n",
      "  jupyterlab_pygmen~ conda-forge/noarch::jupyterlab_pygments-0.3.0-pyhd8ed1ab_2 \n",
      "  jupyterlab_server  conda-forge/noarch::jupyterlab_server-2.27.3-pyhd8ed1ab_0 \n",
      "  jupyterlab_widgets conda-forge/noarch::jupyterlab_widgets-3.0.13-pyhd8ed1ab_1 \n",
      "  krb5               conda-forge/osx-arm64::krb5-1.21.3-h237132a_0 \n",
      "  libblas            conda-forge/osx-arm64::libblas-3.9.0-25_osxarm64_openblas \n",
      "  libcblas           conda-forge/osx-arm64::libcblas-3.9.0-25_osxarm64_openblas \n",
      "  libcxx             conda-forge/osx-arm64::libcxx-19.1.5-ha82da77_0 \n",
      "  libedit            conda-forge/osx-arm64::libedit-3.1.20191231-hc8eb9b7_2 \n",
      "  libexpat           conda-forge/osx-arm64::libexpat-2.6.4-h286801f_0 \n",
      "  libffi             conda-forge/osx-arm64::libffi-3.4.2-h3422bc3_5 \n",
      "  libgfortran        conda-forge/osx-arm64::libgfortran-5.0.0-13_2_0_hd922786_3 \n",
      "  libgfortran5       conda-forge/osx-arm64::libgfortran5-13.2.0-hf226fd6_3 \n",
      "  liblapack          conda-forge/osx-arm64::liblapack-3.9.0-25_osxarm64_openblas \n",
      "  liblzma            conda-forge/osx-arm64::liblzma-5.6.3-h39f12f2_1 \n",
      "  libmpdec           conda-forge/osx-arm64::libmpdec-4.0.0-h99b78c6_0 \n",
      "  libopenblas        conda-forge/osx-arm64::libopenblas-0.3.28-openmp_hf332438_1 \n",
      "  libsodium          conda-forge/osx-arm64::libsodium-1.0.20-h99b78c6_0 \n",
      "  libsqlite          conda-forge/osx-arm64::libsqlite-3.47.0-hbaaea75_1 \n",
      "  libzlib            conda-forge/osx-arm64::libzlib-1.3.1-h8359307_2 \n",
      "  llvm-openmp        conda-forge/osx-arm64::llvm-openmp-19.1.5-hdb05f8b_0 \n",
      "  markupsafe         conda-forge/osx-arm64::markupsafe-3.0.2-py313ha9b7d5b_1 \n",
      "  matplotlib-inline  conda-forge/noarch::matplotlib-inline-0.1.7-pyhd8ed1ab_1 \n",
      "  mistune            conda-forge/noarch::mistune-3.0.2-pyhd8ed1ab_1 \n",
      "  nbclient           conda-forge/noarch::nbclient-0.10.1-pyhd8ed1ab_0 \n",
      "  nbconvert-core     conda-forge/noarch::nbconvert-core-7.16.4-pyhff2d567_2 \n",
      "  nbformat           conda-forge/noarch::nbformat-5.10.4-pyhd8ed1ab_1 \n",
      "  ncurses            conda-forge/osx-arm64::ncurses-6.5-h7bae524_1 \n",
      "  nest-asyncio       conda-forge/noarch::nest-asyncio-1.6.0-pyhd8ed1ab_1 \n",
      "  notebook           conda-forge/noarch::notebook-7.3.1-pyhd8ed1ab_0 \n",
      "  notebook-shim      conda-forge/noarch::notebook-shim-0.2.4-pyhd8ed1ab_1 \n",
      "  numpy              conda-forge/osx-arm64::numpy-2.1.3-py313hca4752e_0 \n",
      "  openssl            conda-forge/osx-arm64::openssl-3.4.0-h39f12f2_0 \n",
      "  overrides          conda-forge/noarch::overrides-7.7.0-pyhd8ed1ab_0 \n",
      "  packaging          conda-forge/noarch::packaging-24.2-pyhd8ed1ab_2 \n",
      "  pandocfilters      conda-forge/noarch::pandocfilters-1.5.0-pyhd8ed1ab_0 \n",
      "  parso              conda-forge/noarch::parso-0.8.4-pyhd8ed1ab_1 \n",
      "  pexpect            conda-forge/noarch::pexpect-4.9.0-pyhd8ed1ab_1 \n",
      "  pickleshare        conda-forge/noarch::pickleshare-0.7.5-pyhd8ed1ab_1004 \n",
      "  pip                conda-forge/noarch::pip-24.3.1-pyh145f28c_0 \n",
      "  pkgutil-resolve-n~ conda-forge/noarch::pkgutil-resolve-name-1.3.10-pyhd8ed1ab_2 \n",
      "  platformdirs       conda-forge/noarch::platformdirs-4.3.6-pyhd8ed1ab_1 \n",
      "  prometheus_client  conda-forge/noarch::prometheus_client-0.21.1-pyhd8ed1ab_0 \n",
      "  prompt-toolkit     conda-forge/noarch::prompt-toolkit-3.0.48-pyha770c72_1 \n",
      "  prompt_toolkit     conda-forge/noarch::prompt_toolkit-3.0.48-hd8ed1ab_1 \n",
      "  psutil             conda-forge/osx-arm64::psutil-6.1.0-py313h63a2874_0 \n",
      "  ptyprocess         conda-forge/noarch::ptyprocess-0.7.0-pyhd8ed1ab_1 \n",
      "  pure_eval          conda-forge/noarch::pure_eval-0.2.3-pyhd8ed1ab_1 \n",
      "  py6s               conda-forge/noarch::py6s-1.9.2-pyhd8ed1ab_0 \n",
      "  pycparser          conda-forge/noarch::pycparser-2.22-pyh29332c3_1 \n",
      "  pygments           conda-forge/noarch::pygments-2.18.0-pyhd8ed1ab_1 \n",
      "  pyobjc-core        conda-forge/osx-arm64::pyobjc-core-10.3.2-py313hb6afeec_0 \n",
      "  pyobjc-framework-~ conda-forge/osx-arm64::pyobjc-framework-cocoa-10.3.2-py313hb6afeec_0 \n",
      "  pysocks            conda-forge/noarch::pysocks-1.7.1-pyha55dd90_7 \n",
      "  pysolar            conda-forge/noarch::pysolar-0.11-pyhd8ed1ab_0 \n",
      "  python             conda-forge/osx-arm64::python-3.13.1-h4f43103_102_cp313 \n",
      "  python-dateutil    conda-forge/noarch::python-dateutil-2.9.0.post0-pyhff2d567_1 \n",
      "  python-fastjsonsc~ conda-forge/noarch::python-fastjsonschema-2.21.1-pyhd8ed1ab_0 \n",
      "  python-json-logger conda-forge/noarch::python-json-logger-2.0.7-pyhd8ed1ab_0 \n",
      "  python_abi         conda-forge/osx-arm64::python_abi-3.13-5_cp313 \n",
      "  pytz               conda-forge/noarch::pytz-2024.2-pyhd8ed1ab_1 \n",
      "  pyyaml             conda-forge/osx-arm64::pyyaml-6.0.2-py313h20a7fcf_1 \n",
      "  pyzmq              conda-forge/osx-arm64::pyzmq-26.2.0-py313h0e8b002_3 \n",
      "  readline           conda-forge/osx-arm64::readline-8.2-h92ec313_1 \n",
      "  referencing        conda-forge/noarch::referencing-0.35.1-pyhd8ed1ab_1 \n",
      "  requests           conda-forge/noarch::requests-2.32.3-pyhd8ed1ab_1 \n",
      "  rfc3339-validator  conda-forge/noarch::rfc3339-validator-0.1.4-pyhd8ed1ab_0 \n",
      "  rfc3986-validator  conda-forge/noarch::rfc3986-validator-0.1.1-pyh9f0ad1d_0 \n",
      "  rpds-py            conda-forge/osx-arm64::rpds-py-0.22.3-py313hdde674f_0 \n",
      "  scipy              conda-forge/osx-arm64::scipy-1.14.1-py313hb3ee861_1 \n",
      "  send2trash         conda-forge/noarch::send2trash-1.8.3-pyh31c8845_1 \n",
      "  setuptools         conda-forge/noarch::setuptools-75.6.0-pyhff2d567_1 \n",
      "  six                conda-forge/noarch::six-1.17.0-pyhd8ed1ab_0 \n",
      "  sixs               conda-forge/osx-arm64::sixs-1.1.3-hbec66e7_2 \n",
      "  sniffio            conda-forge/noarch::sniffio-1.3.1-pyhd8ed1ab_1 \n",
      "  soupsieve          conda-forge/noarch::soupsieve-2.5-pyhd8ed1ab_1 \n",
      "  stack_data         conda-forge/noarch::stack_data-0.6.3-pyhd8ed1ab_1 \n",
      "  terminado          conda-forge/noarch::terminado-0.18.1-pyh31c8845_0 \n",
      "  tinycss2           conda-forge/noarch::tinycss2-1.4.0-pyhd8ed1ab_0 \n",
      "  tk                 conda-forge/osx-arm64::tk-8.6.13-h5083fa2_1 \n",
      "  tomli              conda-forge/noarch::tomli-2.2.1-pyhd8ed1ab_1 \n",
      "  tornado            conda-forge/osx-arm64::tornado-6.4.2-py313h90d716c_0 \n",
      "  traitlets          conda-forge/noarch::traitlets-5.14.3-pyhd8ed1ab_1 \n",
      "  types-python-date~ conda-forge/noarch::types-python-dateutil-2.9.0.20241003-pyhd8ed1ab_1 \n",
      "  typing-extensions  conda-forge/noarch::typing-extensions-4.12.2-hd8ed1ab_1 \n",
      "  typing_extensions  conda-forge/noarch::typing_extensions-4.12.2-pyha770c72_1 \n",
      "  typing_utils       conda-forge/noarch::typing_utils-0.1.0-pyhd8ed1ab_1 \n",
      "  tzdata             conda-forge/noarch::tzdata-2024b-hc8b5060_0 \n",
      "  uri-template       conda-forge/noarch::uri-template-1.3.0-pyhd8ed1ab_1 \n",
      "  urllib3            conda-forge/noarch::urllib3-2.2.3-pyhd8ed1ab_1 \n",
      "  wcwidth            conda-forge/noarch::wcwidth-0.2.13-pyhd8ed1ab_1 \n",
      "  webcolors          conda-forge/noarch::webcolors-24.11.1-pyhd8ed1ab_0 \n",
      "  webencodings       conda-forge/noarch::webencodings-0.5.1-pyhd8ed1ab_3 \n",
      "  websocket-client   conda-forge/noarch::websocket-client-1.8.0-pyhd8ed1ab_1 \n",
      "  widgetsnbextension conda-forge/noarch::widgetsnbextension-4.0.13-pyhd8ed1ab_1 \n",
      "  yaml               conda-forge/osx-arm64::yaml-0.2.5-h3422bc3_2 \n",
      "  zeromq             conda-forge/osx-arm64::zeromq-4.3.5-hc1bb282_7 \n",
      "  zipp               conda-forge/noarch::zipp-3.21.0-pyhd8ed1ab_1 \n",
      "  zstandard          conda-forge/osx-arm64::zstandard-0.23.0-py313hf2da073_1 \n",
      "  zstd               conda-forge/osx-arm64::zstd-1.5.6-hb46c0d2_0 \n",
      "\n",
      "\n",
      "Proceed ([y]/n)? "
     ]
    }
   ],
   "source": [
    " conda create -n py6s-env -c conda-forge py6s ipython Jupyter"
   ]
  },
  {
   "cell_type": "code",
   "execution_count": null,
   "id": "3b76a54a-11e5-4e58-8f36-e15699c1cfb0",
   "metadata": {},
   "outputs": [],
   "source": [
    "pip install 6S"
   ]
  },
  {
   "cell_type": "code",
   "execution_count": null,
   "id": "1b98b938-edc5-41ec-a21a-0076e9d51a3a",
   "metadata": {},
   "outputs": [],
   "source": []
  }
 ],
 "metadata": {
  "kernelspec": {
   "display_name": "Python 3 (ipykernel)",
   "language": "python",
   "name": "python3"
  },
  "language_info": {
   "codemirror_mode": {
    "name": "ipython",
    "version": 3
   },
   "file_extension": ".py",
   "mimetype": "text/x-python",
   "name": "python",
   "nbconvert_exporter": "python",
   "pygments_lexer": "ipython3",
   "version": "3.12.2"
  }
 },
 "nbformat": 4,
 "nbformat_minor": 5
}
