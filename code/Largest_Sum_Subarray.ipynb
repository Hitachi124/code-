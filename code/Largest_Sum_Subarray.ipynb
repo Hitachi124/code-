{
 "cells": [
  {
   "cell_type": "code",
   "execution_count": null,
   "id": "3b216cf4",
   "metadata": {},
   "outputs": [],
   "source": [
    "A = [-4, 2, -5, 1, 2, 3, 6, -5, 1]\n",
    "print(type(A))\n",
    "print(A)"
   ]
  },
  {
   "cell_type": "code",
   "execution_count": null,
   "id": "c93796fb",
   "metadata": {},
   "outputs": [],
   "source": [
    "current_max = A[0]\n",
    "global_max = A[0]\n",
    "for i in range(len(A)):\n",
    "    if current_max <= 0:\n",
    "        current_max = A[i]\n",
    "    else: \n",
    "        current_max = current_max + A[i]\n",
    "        \n",
    "    if global_max <= current_max: \n",
    "        global_max = current_max\n",
    "    print(current_max)\n",
    "    \n",
    "print(global_max)"
   ]
  },
  {
   "cell_type": "code",
   "execution_count": null,
   "id": "ea2d8673",
   "metadata": {},
   "outputs": [],
   "source": []
  }
 ],
 "metadata": {
  "kernelspec": {
   "display_name": "Python 3 (ipykernel)",
   "language": "python",
   "name": "python3"
  },
  "language_info": {
   "codemirror_mode": {
    "name": "ipython",
    "version": 3
   },
   "file_extension": ".py",
   "mimetype": "text/x-python",
   "name": "python",
   "nbconvert_exporter": "python",
   "pygments_lexer": "ipython3",
   "version": "3.9.12"
  }
 },
 "nbformat": 4,
 "nbformat_minor": 5
}
